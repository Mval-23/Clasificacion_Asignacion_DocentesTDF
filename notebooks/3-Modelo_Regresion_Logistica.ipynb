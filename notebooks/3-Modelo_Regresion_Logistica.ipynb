{
 "cells": [
  {
   "cell_type": "markdown",
   "metadata": {},
   "source": [
    "# Clasificación del Carácter de Título según el Título de acuerdo a su casa de estudio y el Espacio Curricular\n",
    "Este notebook utiliza el dataset limpio para predecir el Carácter del titulo, como Docente, Habilitante o Supletorio\n",
    "según el titulo, la institución emisora (nombre) y el espacio curricular (desc_espacio), entrenando un modelo de Regresión Logística"
   ]
  },
  {
   "cell_type": "code",
   "execution_count": 1,
   "metadata": {},
   "outputs": [],
   "source": [
    "# Importar las librerías necesarias. Como pandas, para manejar el dataset,\n",
    "#sklearn, que posee las herramientas de ML para preprocesamiento y evaluación, y,\n",
    "# seaborn y matplotlib para visualizar los resultados.\n",
    "import pandas as pd\n",
    "from sklearn.model_selection import train_test_split\n",
    "from sklearn.preprocessing import OneHotEncoder, StandardScaler\n",
    "from sklearn.metrics import classification_report, confusion_matrix\n",
    "import seaborn as sns\n",
    "import matplotlib.pyplot as plt"
   ]
  },
  {
   "cell_type": "code",
   "execution_count": 2,
   "metadata": {},
   "outputs": [
    {
     "data": {
      "text/plain": [
       "<bound method NDFrame.head of        idtitulo_real                                             titulo  \\\n",
       "0                462                                PROFESORA DE INGLÉS   \n",
       "1                462                                PROFESORA DE INGLÉS   \n",
       "2                462                                PROFESORA DE INGLÉS   \n",
       "3                462                                PROFESORA DE INGLÉS   \n",
       "4                462                                PROFESORA DE INGLÉS   \n",
       "...              ...                                                ...   \n",
       "51621           4123  PROFESOR/A DE EDUCACIÓN SECUNDARIA EN LENGUA Y...   \n",
       "51622           4123  PROFESOR/A DE EDUCACIÓN SECUNDARIA EN LENGUA Y...   \n",
       "51623           4123  PROFESOR/A DE EDUCACIÓN SECUNDARIA EN LENGUA Y...   \n",
       "51624           4123  PROFESOR/A DE EDUCACIÓN SECUNDARIA EN LENGUA Y...   \n",
       "51625           4123  PROFESOR/A DE EDUCACIÓN SECUNDARIA EN LENGUA Y...   \n",
       "\n",
       "                                                  nombre provincia  \\\n",
       "0                  INSTITUTO DE EDUCACIÓN SUPERIOR N° 10     JUJUY   \n",
       "1                  INSTITUTO DE EDUCACIÓN SUPERIOR N° 10     JUJUY   \n",
       "2                  INSTITUTO DE EDUCACIÓN SUPERIOR N° 10     JUJUY   \n",
       "3                  INSTITUTO DE EDUCACIÓN SUPERIOR N° 10     JUJUY   \n",
       "4                  INSTITUTO DE EDUCACIÓN SUPERIOR N° 10     JUJUY   \n",
       "...                                                  ...       ...   \n",
       "51621  ESCUELA NORMAL SUPERIOR TENIENTE GENERAL JULIO...   TUCUMAN   \n",
       "51622  ESCUELA NORMAL SUPERIOR TENIENTE GENERAL JULIO...   TUCUMAN   \n",
       "51623  ESCUELA NORMAL SUPERIOR TENIENTE GENERAL JULIO...   TUCUMAN   \n",
       "51624  ESCUELA NORMAL SUPERIOR TENIENTE GENERAL JULIO...   TUCUMAN   \n",
       "51625  ESCUELA NORMAL SUPERIOR TENIENTE GENERAL JULIO...   TUCUMAN   \n",
       "\n",
       "                                            desc_espacio caracter  \n",
       "0                                        A.T.T.P. INGLÉS  Docente  \n",
       "1                              LENGUA EXTRANJERA: INGLÉS  Docente  \n",
       "2                              LENGUA EXTRANJERA: INGLÉS  Docente  \n",
       "3                            LENGUAS EXTRANJERAS: INGLÉS  Docente  \n",
       "4      ESTUDIOS INTERCULTURALES EN LENGUA I Y II (ING...  Docente  \n",
       "...                                                  ...      ...  \n",
       "51621                                 MAESTRO TUTOR TIFE  Docente  \n",
       "51622                             PRÁCTICAS DEL LENGUAJE  Docente  \n",
       "51623                             PRÁCTICAS DEL LENGUAJE  Docente  \n",
       "51624                             PRÁCTICAS DEL LENGUAJE  Docente  \n",
       "51625     AUXILIAR DE SECRETARÍA DE EDUCACIÓN SECUNDARIA  Docente  \n",
       "\n",
       "[51626 rows x 6 columns]>"
      ]
     },
     "execution_count": 2,
     "metadata": {},
     "output_type": "execute_result"
    }
   ],
   "source": [
    "# Cargar el dataset limpio\n",
    "df = pd.read_csv('C:/Users/Usuario/OneDrive/Documentos/BASE_DE_DATOS_E_INTELIGENCIA_ARTIFICIAL/2025/APRENDIZAJE AUTOMATICO (2A1C)/PARCIAL/Clasificacion_Asignacion_DocentesTDF/data/processed/dataset_docentes_etl.csv')\n",
    "df.head"
   ]
  },
  {
   "cell_type": "code",
   "execution_count": 3,
   "metadata": {},
   "outputs": [],
   "source": [
    "# Aseguramos que no haya nulos relevantes\n",
    "df = df.dropna(subset=['caracter', 'titulo', 'nombre', 'desc_espacio'])  "
   ]
  },
  {
   "cell_type": "code",
   "execution_count": 4,
   "metadata": {},
   "outputs": [],
   "source": [
    "# Selección de variables, separando la variable independiente (X: columnas que describen al aspirante) \n",
    "#y la independiente (y:categoría del aspirante isncripto que queremos predecir: 'Docente', 'Habilitante', 'Supletorio')\n",
    "X = df[['titulo', 'nombre', 'desc_espacio']]\n",
    "y = df['caracter']"
   ]
  },
  {
   "cell_type": "code",
   "execution_count": 5,
   "metadata": {},
   "outputs": [
    {
     "data": {
      "text/plain": [
       "(51626, 4754)"
      ]
     },
     "execution_count": 5,
     "metadata": {},
     "output_type": "execute_result"
    }
   ],
   "source": [
    "# Codificación One-Hot: Convierte las variables categóricas (titulo, nombre, desc_espacio) en números binarios (0 o 1) con One-Hot Encoding,\n",
    "# para que el modelo pueda trabajar con ellas.\n",
    "encoder = OneHotEncoder(sparse_output=False, handle_unknown='ignore')\n",
    "X_encoded = encoder.fit_transform(X)\n",
    "X_encoded.shape"
   ]
  },
  {
   "cell_type": "code",
   "execution_count": null,
   "metadata": {},
   "outputs": [],
   "source": [
    "# División de datos en entrenamiento y prueba\n",
    "X_train, X_test, y_train, y_test = train_test_split(X_encoded, y, test_size=0.2, random_state=42, stratify=y)"
   ]
  },
  {
   "cell_type": "code",
   "execution_count": null,
   "metadata": {},
   "outputs": [],
   "source": [
    "# Escalado de características y entrenamiento del modelo Regresión Logística Multiclase\n",
    "from sklearn.linear_model import LogisticRegression\n",
    "scaler = StandardScaler()\n",
    "X_train_scaled = scaler.fit_transform(X_train)\n",
    "X_test_scaled = scaler.transform(X_test)\n",
    "model = LogisticRegression(multi_class='multinomial', solver='lbfgs', max_iter=1000)\n",
    "model.fit(X_train_scaled, y_train)\n",
    "y_pred = model.predict(X_test_scaled)"
   ]
  },
  {
   "cell_type": "code",
   "execution_count": null,
   "metadata": {},
   "outputs": [],
   "source": [
    "#Evalaucion del modelo\n",
    "print(\"REPORTE DE CLASIFICACIÓN:\")\n",
    "print(classification_report(y_test, y_pred))\n",
    "cm = confusion_matrix(y_test, y_pred, labels=['Habilitante', 'Supletorio', 'Docente'])\n",
    "sns.heatmap(cm, annot=True, fmt='d', cmap='Blues', xticklabels=['Habilitante', 'Supletorio', 'Docente'], yticklabels=['Habilitante', 'Supletorio', 'Docente'])\n",
    "plt.xlabel('Predicción')\n",
    "plt.ylabel('Real')\n",
    "plt.title('Matriz de Confusión - Regresión Logística')\n",
    "plt.show()"
   ]
  },
  {
   "cell_type": "code",
   "execution_count": null,
   "metadata": {},
   "outputs": [],
   "source": []
  },
  {
   "cell_type": "code",
   "execution_count": null,
   "metadata": {},
   "outputs": [],
   "source": []
  }
 ],
 "metadata": {
  "kernelspec": {
   "display_name": "Python 3 (ipykernel)",
   "language": "python",
   "name": "python3"
  },
  "language_info": {
   "codemirror_mode": {
    "name": "ipython",
    "version": 3
   },
   "file_extension": ".py",
   "mimetype": "text/x-python",
   "name": "python",
   "nbconvert_exporter": "python",
   "pygments_lexer": "ipython3",
   "version": "3.12.4"
  }
 },
 "nbformat": 4,
 "nbformat_minor": 4
}
